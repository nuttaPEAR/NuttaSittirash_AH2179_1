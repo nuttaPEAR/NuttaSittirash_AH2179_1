{
  "cells": [
    {
      "cell_type": "markdown",
      "metadata": {
        "id": "3rCvYd_xSl65"
      },
      "source": [
        "# Regression\n",
        "\n",
        "Imagine that you work for a taxi company, and that one of your customers' biggest complaints is that they don't know how much a ride will cost until it's over. That's because distance is just one of several factors from which taxi fares are calculated. You decide to do something about it by building a mobile app that customers can use when they climb into a taxi to estimate what the fare will be. To provide the smarts for the app, you intend to use the massive amounts of fare data the company has collected over the years to build a machine-learning model.\n",
        "\n",
        "Regression models predict numeric outcomes such as the price of a car, the age of a person in a picture, or the cost of a taxi ride. Let's use a portion of a larger taxi-fare dataset from New York City to train a regression model to predict a fare amount given the time of day, the pickup and dropoff locations, and other information."
      ]
    },
    {
      "cell_type": "markdown",
      "metadata": {
        "id": "yl3iq_xPSl66"
      },
      "source": [
        "## Load and prepare data\n",
        "\n",
        "Start by loading the dataset and shaping it so that it's suitable for use in machine learning. This dataset is a subset of a much larger dataset containing more than 100 million rows. Recently, the larger dataset was used in Kaggle's [New York City Taxi Fare Prediction](https://www.kaggle.com/c/new-york-city-taxi-fare-prediction) competition. The data requires a fair amount of prep work before it's of any use at all — something that is not uncommon in machine learning. Data scientists often find that collecting and preparing data accounts for 90% or more of their time."
      ]
    },
    {
      "cell_type": "code",
      "execution_count": null,
      "metadata": {
        "id": "TX2hwyr0Sl67",
        "outputId": "7ee3e995-9e73-4578-d461-8cbab405c732"
      },
      "outputs": [
        {
          "data": {
            "text/html": [
              "<div>\n",
              "<style scoped>\n",
              "    .dataframe tbody tr th:only-of-type {\n",
              "        vertical-align: middle;\n",
              "    }\n",
              "\n",
              "    .dataframe tbody tr th {\n",
              "        vertical-align: top;\n",
              "    }\n",
              "\n",
              "    .dataframe thead th {\n",
              "        text-align: right;\n",
              "    }\n",
              "</style>\n",
              "<table border=\"1\" class=\"dataframe\">\n",
              "  <thead>\n",
              "    <tr style=\"text-align: right;\">\n",
              "      <th></th>\n",
              "      <th>key</th>\n",
              "      <th>fare_amount</th>\n",
              "      <th>pickup_datetime</th>\n",
              "      <th>pickup_longitude</th>\n",
              "      <th>pickup_latitude</th>\n",
              "      <th>dropoff_longitude</th>\n",
              "      <th>dropoff_latitude</th>\n",
              "      <th>passenger_count</th>\n",
              "    </tr>\n",
              "  </thead>\n",
              "  <tbody>\n",
              "    <tr>\n",
              "      <th>0</th>\n",
              "      <td>2014-06-15 17:11:00.000000107</td>\n",
              "      <td>7.0</td>\n",
              "      <td>2014-06-15 17:11:00+00:00</td>\n",
              "      <td>-73.995420</td>\n",
              "      <td>40.759662</td>\n",
              "      <td>-73.987607</td>\n",
              "      <td>40.751247</td>\n",
              "      <td>1</td>\n",
              "    </tr>\n",
              "    <tr>\n",
              "      <th>1</th>\n",
              "      <td>2011-03-14 22:43:00.00000095</td>\n",
              "      <td>4.9</td>\n",
              "      <td>2011-03-14 22:43:00+00:00</td>\n",
              "      <td>-73.993552</td>\n",
              "      <td>40.731110</td>\n",
              "      <td>-73.998497</td>\n",
              "      <td>40.737200</td>\n",
              "      <td>5</td>\n",
              "    </tr>\n",
              "    <tr>\n",
              "      <th>2</th>\n",
              "      <td>2011-02-14 15:14:00.00000067</td>\n",
              "      <td>6.1</td>\n",
              "      <td>2011-02-14 15:14:00+00:00</td>\n",
              "      <td>-73.972380</td>\n",
              "      <td>40.749527</td>\n",
              "      <td>-73.990638</td>\n",
              "      <td>40.745328</td>\n",
              "      <td>1</td>\n",
              "    </tr>\n",
              "    <tr>\n",
              "      <th>3</th>\n",
              "      <td>2009-10-29 11:29:00.00000040</td>\n",
              "      <td>6.9</td>\n",
              "      <td>2009-10-29 11:29:00+00:00</td>\n",
              "      <td>-73.973703</td>\n",
              "      <td>40.763542</td>\n",
              "      <td>-73.984253</td>\n",
              "      <td>40.758603</td>\n",
              "      <td>5</td>\n",
              "    </tr>\n",
              "    <tr>\n",
              "      <th>4</th>\n",
              "      <td>2011-07-02 10:38:00.00000028</td>\n",
              "      <td>10.5</td>\n",
              "      <td>2011-07-02 10:38:00+00:00</td>\n",
              "      <td>-73.921262</td>\n",
              "      <td>40.743615</td>\n",
              "      <td>-73.967383</td>\n",
              "      <td>40.765162</td>\n",
              "      <td>1</td>\n",
              "    </tr>\n",
              "  </tbody>\n",
              "</table>\n",
              "</div>"
            ],
            "text/plain": [
              "                             key  fare_amount           pickup_datetime  \\\n",
              "0  2014-06-15 17:11:00.000000107          7.0 2014-06-15 17:11:00+00:00   \n",
              "1   2011-03-14 22:43:00.00000095          4.9 2011-03-14 22:43:00+00:00   \n",
              "2   2011-02-14 15:14:00.00000067          6.1 2011-02-14 15:14:00+00:00   \n",
              "3   2009-10-29 11:29:00.00000040          6.9 2009-10-29 11:29:00+00:00   \n",
              "4   2011-07-02 10:38:00.00000028         10.5 2011-07-02 10:38:00+00:00   \n",
              "\n",
              "   pickup_longitude  pickup_latitude  dropoff_longitude  dropoff_latitude  \\\n",
              "0        -73.995420        40.759662         -73.987607         40.751247   \n",
              "1        -73.993552        40.731110         -73.998497         40.737200   \n",
              "2        -73.972380        40.749527         -73.990638         40.745328   \n",
              "3        -73.973703        40.763542         -73.984253         40.758603   \n",
              "4        -73.921262        40.743615         -73.967383         40.765162   \n",
              "\n",
              "   passenger_count  \n",
              "0                1  \n",
              "1                5  \n",
              "2                1  \n",
              "3                5  \n",
              "4                1  "
            ]
          },
          "execution_count": 1,
          "metadata": {},
          "output_type": "execute_result"
        }
      ],
      "source": [
        "import pandas as pd\n",
        "\n",
        "df = pd.read_csv('Data/taxi-fares.csv', parse_dates=['pickup_datetime'])\n",
        "df.head()"
      ]
    },
    {
      "cell_type": "markdown",
      "metadata": {
        "id": "OFKnsz3aSl68"
      },
      "source": [
        "How many rows and columns does the dataset contain?"
      ]
    },
    {
      "cell_type": "code",
      "execution_count": null,
      "metadata": {
        "id": "4LQMZcGSSl68",
        "outputId": "c1291a9f-f2d1-4b08-91b6-ebc0082f8b19"
      },
      "outputs": [
        {
          "data": {
            "text/plain": [
              "(55368, 8)"
            ]
          },
          "execution_count": 2,
          "metadata": {},
          "output_type": "execute_result"
        }
      ],
      "source": [
        "df.shape"
      ]
    },
    {
      "cell_type": "markdown",
      "metadata": {
        "id": "Yu-2n5DrSl69"
      },
      "source": [
        "Are any of the columns missing values?"
      ]
    },
    {
      "cell_type": "code",
      "execution_count": null,
      "metadata": {
        "id": "SX4k1n0vSl69",
        "outputId": "0cba87b1-eb29-4f16-e684-fac5e2b05f27"
      },
      "outputs": [
        {
          "name": "stdout",
          "output_type": "stream",
          "text": [
            "<class 'pandas.core.frame.DataFrame'>\n",
            "RangeIndex: 55368 entries, 0 to 55367\n",
            "Data columns (total 8 columns):\n",
            " #   Column             Non-Null Count  Dtype              \n",
            "---  ------             --------------  -----              \n",
            " 0   key                55368 non-null  object             \n",
            " 1   fare_amount        55368 non-null  float64            \n",
            " 2   pickup_datetime    55368 non-null  datetime64[ns, UTC]\n",
            " 3   pickup_longitude   55368 non-null  float64            \n",
            " 4   pickup_latitude    55368 non-null  float64            \n",
            " 5   dropoff_longitude  55368 non-null  float64            \n",
            " 6   dropoff_latitude   55368 non-null  float64            \n",
            " 7   passenger_count    55368 non-null  int64              \n",
            "dtypes: datetime64[ns, UTC](1), float64(5), int64(1), object(1)\n",
            "memory usage: 3.4+ MB\n"
          ]
        }
      ],
      "source": [
        "df.info()"
      ]
    },
    {
      "cell_type": "markdown",
      "metadata": {
        "id": "qW8win__Sl69"
      },
      "source": [
        "Draw a histogram showing how many rows contain a passenger count of 1, how many contain a passenger count of 2, and so on."
      ]
    },
    {
      "cell_type": "code",
      "execution_count": null,
      "metadata": {
        "id": "TH5cD8XHSl6-",
        "outputId": "512a2ac8-bacc-4077-d2b0-bc71c120ecc3"
      },
      "outputs": [
        {
          "data": {
            "text/plain": [
              "<AxesSubplot:xlabel='passenger_count', ylabel='count'>"
            ]
          },
          "execution_count": 4,
          "metadata": {},
          "output_type": "execute_result"
        },
        {
          "data": {
            "image/png": "[encoded data removed]",
            "text/plain": [
              "<Figure size 432x288 with 1 Axes>"
            ]
          },
          "metadata": {},
          "output_type": "display_data"
        }
      ],
      "source": [
        "%matplotlib inline\n",
        "import matplotlib.pyplot as plt\n",
        "import seaborn as sns\n",
        "sns.set()\n",
        "\n",
        "sns.countplot(x=df['passenger_count'])"
      ]
    },
    {
      "cell_type": "markdown",
      "metadata": {
        "id": "bC9QI8CHSl6_"
      },
      "source": [
        "Most of the rows in the dataset have a passenger count of 1. Remove all rows with multiple passengers and remove the \"key\" column from the dataset."
      ]
    },
    {
      "cell_type": "code",
      "execution_count": null,
      "metadata": {
        "id": "2XVAcEfYSl6_",
        "outputId": "47c9883c-81dc-4e7f-99bc-eda915db6e39"
      },
      "outputs": [
        {
          "data": {
            "text/html": [
              "<div>\n",
              "<style scoped>\n",
              "    .dataframe tbody tr th:only-of-type {\n",
              "        vertical-align: middle;\n",
              "    }\n",
              "\n",
              "    .dataframe tbody tr th {\n",
              "        vertical-align: top;\n",
              "    }\n",
              "\n",
              "    .dataframe thead th {\n",
              "        text-align: right;\n",
              "    }\n",
              "</style>\n",
              "<table border=\"1\" class=\"dataframe\">\n",
              "  <thead>\n",
              "    <tr style=\"text-align: right;\">\n",
              "      <th></th>\n",
              "      <th>fare_amount</th>\n",
              "      <th>pickup_datetime</th>\n",
              "      <th>pickup_longitude</th>\n",
              "      <th>pickup_latitude</th>\n",
              "      <th>dropoff_longitude</th>\n",
              "      <th>dropoff_latitude</th>\n",
              "    </tr>\n",
              "  </thead>\n",
              "  <tbody>\n",
              "    <tr>\n",
              "      <th>0</th>\n",
              "      <td>7.0</td>\n",
              "      <td>2014-06-15 17:11:00+00:00</td>\n",
              "      <td>-73.995420</td>\n",
              "      <td>40.759662</td>\n",
              "      <td>-73.987607</td>\n",
              "      <td>40.751247</td>\n",
              "    </tr>\n",
              "    <tr>\n",
              "      <th>2</th>\n",
              "      <td>6.1</td>\n",
              "      <td>2011-02-14 15:14:00+00:00</td>\n",
              "      <td>-73.972380</td>\n",
              "      <td>40.749527</td>\n",
              "      <td>-73.990638</td>\n",
              "      <td>40.745328</td>\n",
              "    </tr>\n",
              "    <tr>\n",
              "      <th>4</th>\n",
              "      <td>10.5</td>\n",
              "      <td>2011-07-02 10:38:00+00:00</td>\n",
              "      <td>-73.921262</td>\n",
              "      <td>40.743615</td>\n",
              "      <td>-73.967383</td>\n",
              "      <td>40.765162</td>\n",
              "    </tr>\n",
              "    <tr>\n",
              "      <th>5</th>\n",
              "      <td>15.3</td>\n",
              "      <td>2011-12-09 20:03:00+00:00</td>\n",
              "      <td>-73.973500</td>\n",
              "      <td>40.792610</td>\n",
              "      <td>-73.936035</td>\n",
              "      <td>40.856548</td>\n",
              "    </tr>\n",
              "    <tr>\n",
              "      <th>8</th>\n",
              "      <td>7.7</td>\n",
              "      <td>2011-04-02 01:05:15+00:00</td>\n",
              "      <td>-73.979564</td>\n",
              "      <td>40.735405</td>\n",
              "      <td>-73.955686</td>\n",
              "      <td>40.768065</td>\n",
              "    </tr>\n",
              "  </tbody>\n",
              "</table>\n",
              "</div>"
            ],
            "text/plain": [
              "   fare_amount           pickup_datetime  pickup_longitude  pickup_latitude  \\\n",
              "0          7.0 2014-06-15 17:11:00+00:00        -73.995420        40.759662   \n",
              "2          6.1 2011-02-14 15:14:00+00:00        -73.972380        40.749527   \n",
              "4         10.5 2011-07-02 10:38:00+00:00        -73.921262        40.743615   \n",
              "5         15.3 2011-12-09 20:03:00+00:00        -73.973500        40.792610   \n",
              "8          7.7 2011-04-02 01:05:15+00:00        -73.979564        40.735405   \n",
              "\n",
              "   dropoff_longitude  dropoff_latitude  \n",
              "0         -73.987607         40.751247  \n",
              "2         -73.990638         40.745328  \n",
              "4         -73.967383         40.765162  \n",
              "5         -73.936035         40.856548  \n",
              "8         -73.955686         40.768065  "
            ]
          },
          "execution_count": 5,
          "metadata": {},
          "output_type": "execute_result"
        }
      ],
      "source": [
        "df = df[df['passenger_count'] == 1]\n",
        "df = df.drop(['key', 'passenger_count'], axis=1)\n",
        "df.head()"
      ]
    },
    {
      "cell_type": "markdown",
      "metadata": {
        "id": "BR2BrBZhSl7A"
      },
      "source": [
        "How many rows and columns are left in the dataset?"
      ]
    },
    {
      "cell_type": "code",
      "execution_count": null,
      "metadata": {
        "id": "CAQQTZdPSl7A",
        "outputId": "68f5a29e-4852-4a11-a185-4b93bca98482"
      },
      "outputs": [
        {
          "data": {
            "text/plain": [
              "(38233, 6)"
            ]
          },
          "execution_count": 6,
          "metadata": {},
          "output_type": "execute_result"
        }
      ],
      "source": [
        "df.shape"
      ]
    },
    {
      "cell_type": "markdown",
      "metadata": {
        "id": "e9QpRINmSl7A"
      },
      "source": [
        "Find out how much influence input variables such as `latitude` and `longitude` have on the values in the \"fare_amount\" column."
      ]
    },
    {
      "cell_type": "code",
      "execution_count": null,
      "metadata": {
        "id": "5vJtbWB7Sl7A",
        "outputId": "00067d0d-927c-4e68-b1e9-a3255408688c"
      },
      "outputs": [
        {
          "data": {
            "text/plain": [
              "fare_amount          1.000000\n",
              "dropoff_longitude    0.020438\n",
              "pickup_longitude     0.015742\n",
              "pickup_latitude     -0.015915\n",
              "dropoff_latitude    -0.021711\n",
              "Name: fare_amount, dtype: float64"
            ]
          },
          "execution_count": 7,
          "metadata": {},
          "output_type": "execute_result"
        }
      ],
      "source": [
        "corr_matrix = df.corr()\n",
        "corr_matrix['fare_amount'].sort_values(ascending=False)"
      ]
    },
    {
      "cell_type": "markdown",
      "metadata": {
        "id": "umAFZJ2OSl7A"
      },
      "source": [
        "The numbers don't look very encouraging. Latitudes and longitudes have little to do with fare amounts, at least in their present form. And yet intuitively, they should have a *lot* do with fare amounts since they specify starting and ending points and longer rides incur higher fares.\n",
        "\n",
        "Now comes the fun part: creating whole new columns of data that have more impact on the outcome — columns whose values are computed from values in other columns. Add columns specifying the day of the week (0=Monday, 1=Sunday, and so on), the hour of the day that the passenger was picked up (0-23), and the distance (through the air, not on the street) in miles that the ride covered. To compute distances, this code assumes that most rides are short and that it is therefore safe to ignore the curvature of the earth."
      ]
    },
    {
      "cell_type": "code",
      "execution_count": null,
      "metadata": {
        "id": "X_pmsDZXSl7B",
        "outputId": "d6f54ee9-3311-48c5-e9b0-6b9adf040eee"
      },
      "outputs": [
        {
          "data": {
            "text/html": [
              "<div>\n",
              "<style scoped>\n",
              "    .dataframe tbody tr th:only-of-type {\n",
              "        vertical-align: middle;\n",
              "    }\n",
              "\n",
              "    .dataframe tbody tr th {\n",
              "        vertical-align: top;\n",
              "    }\n",
              "\n",
              "    .dataframe thead th {\n",
              "        text-align: right;\n",
              "    }\n",
              "</style>\n",
              "<table border=\"1\" class=\"dataframe\">\n",
              "  <thead>\n",
              "    <tr style=\"text-align: right;\">\n",
              "      <th></th>\n",
              "      <th>fare_amount</th>\n",
              "      <th>pickup_datetime</th>\n",
              "      <th>pickup_longitude</th>\n",
              "      <th>pickup_latitude</th>\n",
              "      <th>dropoff_longitude</th>\n",
              "      <th>dropoff_latitude</th>\n",
              "      <th>day_of_week</th>\n",
              "      <th>pickup_time</th>\n",
              "      <th>distance</th>\n",
              "    </tr>\n",
              "  </thead>\n",
              "  <tbody>\n",
              "    <tr>\n",
              "      <th>0</th>\n",
              "      <td>7.0</td>\n",
              "      <td>2014-06-15 17:11:00+00:00</td>\n",
              "      <td>-73.995420</td>\n",
              "      <td>40.759662</td>\n",
              "      <td>-73.987607</td>\n",
              "      <td>40.751247</td>\n",
              "      <td>6.0</td>\n",
              "      <td>17.0</td>\n",
              "      <td>0.720497</td>\n",
              "    </tr>\n",
              "    <tr>\n",
              "      <th>2</th>\n",
              "      <td>6.1</td>\n",
              "      <td>2011-02-14 15:14:00+00:00</td>\n",
              "      <td>-73.972380</td>\n",
              "      <td>40.749527</td>\n",
              "      <td>-73.990638</td>\n",
              "      <td>40.745328</td>\n",
              "      <td>0.0</td>\n",
              "      <td>15.0</td>\n",
              "      <td>1.038136</td>\n",
              "    </tr>\n",
              "    <tr>\n",
              "      <th>4</th>\n",
              "      <td>10.5</td>\n",
              "      <td>2011-07-02 10:38:00+00:00</td>\n",
              "      <td>-73.921262</td>\n",
              "      <td>40.743615</td>\n",
              "      <td>-73.967383</td>\n",
              "      <td>40.765162</td>\n",
              "      <td>5.0</td>\n",
              "      <td>10.0</td>\n",
              "      <td>2.924341</td>\n",
              "    </tr>\n",
              "    <tr>\n",
              "      <th>5</th>\n",
              "      <td>15.3</td>\n",
              "      <td>2011-12-09 20:03:00+00:00</td>\n",
              "      <td>-73.973500</td>\n",
              "      <td>40.792610</td>\n",
              "      <td>-73.936035</td>\n",
              "      <td>40.856548</td>\n",
              "      <td>4.0</td>\n",
              "      <td>20.0</td>\n",
              "      <td>4.862893</td>\n",
              "    </tr>\n",
              "    <tr>\n",
              "      <th>8</th>\n",
              "      <td>7.7</td>\n",
              "      <td>2011-04-02 01:05:15+00:00</td>\n",
              "      <td>-73.979564</td>\n",
              "      <td>40.735405</td>\n",
              "      <td>-73.955686</td>\n",
              "      <td>40.768065</td>\n",
              "      <td>5.0</td>\n",
              "      <td>1.0</td>\n",
              "      <td>2.603493</td>\n",
              "    </tr>\n",
              "  </tbody>\n",
              "</table>\n",
              "</div>"
            ],
            "text/plain": [
              "   fare_amount           pickup_datetime  pickup_longitude  pickup_latitude  \\\n",
              "0          7.0 2014-06-15 17:11:00+00:00        -73.995420        40.759662   \n",
              "2          6.1 2011-02-14 15:14:00+00:00        -73.972380        40.749527   \n",
              "4         10.5 2011-07-02 10:38:00+00:00        -73.921262        40.743615   \n",
              "5         15.3 2011-12-09 20:03:00+00:00        -73.973500        40.792610   \n",
              "8          7.7 2011-04-02 01:05:15+00:00        -73.979564        40.735405   \n",
              "\n",
              "   dropoff_longitude  dropoff_latitude  day_of_week  pickup_time  distance  \n",
              "0         -73.987607         40.751247          6.0         17.0  0.720497  \n",
              "2         -73.990638         40.745328          0.0         15.0  1.038136  \n",
              "4         -73.967383         40.765162          5.0         10.0  2.924341  \n",
              "5         -73.936035         40.856548          4.0         20.0  4.862893  \n",
              "8         -73.955686         40.768065          5.0          1.0  2.603493  "
            ]
          },
          "execution_count": 8,
          "metadata": {},
          "output_type": "execute_result"
        }
      ],
      "source": [
        "import datetime\n",
        "from math import sqrt\n",
        "\n",
        "for i, row in df.iterrows():\n",
        "    dt = row['pickup_datetime']\n",
        "    df.at[i, 'day_of_week'] = dt.weekday()\n",
        "    df.at[i, 'pickup_time'] = dt.hour\n",
        "    x = (row['dropoff_longitude'] - row['pickup_longitude']) * 54.6 # 1 degree == 54.6 miles\n",
        "    y = (row['dropoff_latitude'] - row['pickup_latitude']) * 69.0   # 1 degree == 69 miles\n",
        "    distance = sqrt(x**2 + y**2)\n",
        "    df.at[i, 'distance'] = distance\n",
        "\n",
        "df.head()"
      ]
    },
    {
      "cell_type": "markdown",
      "metadata": {
        "id": "k7oHIEQlSl7B"
      },
      "source": [
        "Remove columns that are no longer needed."
      ]
    },
    {
      "cell_type": "code",
      "execution_count": null,
      "metadata": {
        "id": "TFChPPRASl7B",
        "outputId": "5bb84056-a6dd-469a-d56e-4e035e099555"
      },
      "outputs": [
        {
          "data": {
            "text/html": [
              "<div>\n",
              "<style scoped>\n",
              "    .dataframe tbody tr th:only-of-type {\n",
              "        vertical-align: middle;\n",
              "    }\n",
              "\n",
              "    .dataframe tbody tr th {\n",
              "        vertical-align: top;\n",
              "    }\n",
              "\n",
              "    .dataframe thead th {\n",
              "        text-align: right;\n",
              "    }\n",
              "</style>\n",
              "<table border=\"1\" class=\"dataframe\">\n",
              "  <thead>\n",
              "    <tr style=\"text-align: right;\">\n",
              "      <th></th>\n",
              "      <th>fare_amount</th>\n",
              "      <th>day_of_week</th>\n",
              "      <th>pickup_time</th>\n",
              "      <th>distance</th>\n",
              "    </tr>\n",
              "  </thead>\n",
              "  <tbody>\n",
              "    <tr>\n",
              "      <th>0</th>\n",
              "      <td>7.0</td>\n",
              "      <td>6.0</td>\n",
              "      <td>17.0</td>\n",
              "      <td>0.720497</td>\n",
              "    </tr>\n",
              "    <tr>\n",
              "      <th>2</th>\n",
              "      <td>6.1</td>\n",
              "      <td>0.0</td>\n",
              "      <td>15.0</td>\n",
              "      <td>1.038136</td>\n",
              "    </tr>\n",
              "    <tr>\n",
              "      <th>4</th>\n",
              "      <td>10.5</td>\n",
              "      <td>5.0</td>\n",
              "      <td>10.0</td>\n",
              "      <td>2.924341</td>\n",
              "    </tr>\n",
              "    <tr>\n",
              "      <th>5</th>\n",
              "      <td>15.3</td>\n",
              "      <td>4.0</td>\n",
              "      <td>20.0</td>\n",
              "      <td>4.862893</td>\n",
              "    </tr>\n",
              "    <tr>\n",
              "      <th>8</th>\n",
              "      <td>7.7</td>\n",
              "      <td>5.0</td>\n",
              "      <td>1.0</td>\n",
              "      <td>2.603493</td>\n",
              "    </tr>\n",
              "  </tbody>\n",
              "</table>\n",
              "</div>"
            ],
            "text/plain": [
              "   fare_amount  day_of_week  pickup_time  distance\n",
              "0          7.0          6.0         17.0  0.720497\n",
              "2          6.1          0.0         15.0  1.038136\n",
              "4         10.5          5.0         10.0  2.924341\n",
              "5         15.3          4.0         20.0  4.862893\n",
              "8          7.7          5.0          1.0  2.603493"
            ]
          },
          "execution_count": 9,
          "metadata": {},
          "output_type": "execute_result"
        }
      ],
      "source": [
        "df.drop(columns=['pickup_datetime', 'pickup_longitude', 'pickup_latitude', 'dropoff_longitude', 'dropoff_latitude'], inplace=True)\n",
        "df.head()"
      ]
    },
    {
      "cell_type": "markdown",
      "metadata": {
        "id": "1e6ShGiDSl7B"
      },
      "source": [
        "Run a correlation again."
      ]
    },
    {
      "cell_type": "code",
      "execution_count": null,
      "metadata": {
        "id": "3pBJdjqCSl7B",
        "outputId": "9bd0368e-c111-484d-ca2e-11b057173ef9"
      },
      "outputs": [
        {
          "data": {
            "text/plain": [
              "fare_amount    1.000000\n",
              "distance       0.045873\n",
              "day_of_week    0.009196\n",
              "pickup_time   -0.019722\n",
              "Name: fare_amount, dtype: float64"
            ]
          },
          "execution_count": 10,
          "metadata": {},
          "output_type": "execute_result"
        }
      ],
      "source": [
        "corr_matrix = df.corr()\n",
        "corr_matrix['fare_amount'].sort_values(ascending=False)"
      ]
    },
    {
      "cell_type": "markdown",
      "metadata": {
        "id": "Flc3qwyjSl7C"
      },
      "source": [
        "There still isn't a strong correlation between distance traveled and fare amount. Perhaps this will provide some clue as to why:"
      ]
    },
    {
      "cell_type": "code",
      "execution_count": null,
      "metadata": {
        "id": "pXzb_pnGSl7C",
        "outputId": "aaf981f3-ae54-4f96-e4b3-988b98d77d3c"
      },
      "outputs": [
        {
          "data": {
            "text/html": [
              "<div>\n",
              "<style scoped>\n",
              "    .dataframe tbody tr th:only-of-type {\n",
              "        vertical-align: middle;\n",
              "    }\n",
              "\n",
              "    .dataframe tbody tr th {\n",
              "        vertical-align: top;\n",
              "    }\n",
              "\n",
              "    .dataframe thead th {\n",
              "        text-align: right;\n",
              "    }\n",
              "</style>\n",
              "<table border=\"1\" class=\"dataframe\">\n",
              "  <thead>\n",
              "    <tr style=\"text-align: right;\">\n",
              "      <th></th>\n",
              "      <th>fare_amount</th>\n",
              "      <th>day_of_week</th>\n",
              "      <th>pickup_time</th>\n",
              "      <th>distance</th>\n",
              "    </tr>\n",
              "  </thead>\n",
              "  <tbody>\n",
              "    <tr>\n",
              "      <th>count</th>\n",
              "      <td>38233.000000</td>\n",
              "      <td>38233.000000</td>\n",
              "      <td>38233.000000</td>\n",
              "      <td>38233.000000</td>\n",
              "    </tr>\n",
              "    <tr>\n",
              "      <th>mean</th>\n",
              "      <td>11.214115</td>\n",
              "      <td>2.951534</td>\n",
              "      <td>13.387989</td>\n",
              "      <td>12.018397</td>\n",
              "    </tr>\n",
              "    <tr>\n",
              "      <th>std</th>\n",
              "      <td>9.703149</td>\n",
              "      <td>1.932809</td>\n",
              "      <td>6.446519</td>\n",
              "      <td>217.357022</td>\n",
              "    </tr>\n",
              "    <tr>\n",
              "      <th>min</th>\n",
              "      <td>-22.100000</td>\n",
              "      <td>0.000000</td>\n",
              "      <td>0.000000</td>\n",
              "      <td>0.000000</td>\n",
              "    </tr>\n",
              "    <tr>\n",
              "      <th>25%</th>\n",
              "      <td>6.000000</td>\n",
              "      <td>1.000000</td>\n",
              "      <td>9.000000</td>\n",
              "      <td>0.762116</td>\n",
              "    </tr>\n",
              "    <tr>\n",
              "      <th>50%</th>\n",
              "      <td>8.500000</td>\n",
              "      <td>3.000000</td>\n",
              "      <td>14.000000</td>\n",
              "      <td>1.331326</td>\n",
              "    </tr>\n",
              "    <tr>\n",
              "      <th>75%</th>\n",
              "      <td>12.500000</td>\n",
              "      <td>5.000000</td>\n",
              "      <td>19.000000</td>\n",
              "      <td>2.402226</td>\n",
              "    </tr>\n",
              "    <tr>\n",
              "      <th>max</th>\n",
              "      <td>256.000000</td>\n",
              "      <td>6.000000</td>\n",
              "      <td>23.000000</td>\n",
              "      <td>4923.837280</td>\n",
              "    </tr>\n",
              "  </tbody>\n",
              "</table>\n",
              "</div>"
            ],
            "text/plain": [
              "        fare_amount   day_of_week   pickup_time      distance\n",
              "count  38233.000000  38233.000000  38233.000000  38233.000000\n",
              "mean      11.214115      2.951534     13.387989     12.018397\n",
              "std        9.703149      1.932809      6.446519    217.357022\n",
              "min      -22.100000      0.000000      0.000000      0.000000\n",
              "25%        6.000000      1.000000      9.000000      0.762116\n",
              "50%        8.500000      3.000000     14.000000      1.331326\n",
              "75%       12.500000      5.000000     19.000000      2.402226\n",
              "max      256.000000      6.000000     23.000000   4923.837280"
            ]
          },
          "execution_count": 11,
          "metadata": {},
          "output_type": "execute_result"
        }
      ],
      "source": [
        "df.describe()"
      ]
    },
    {
      "cell_type": "markdown",
      "metadata": {
        "id": "tPHALuzHSl7C"
      },
      "source": [
        "The dataset contains outliers, and outliers frequently skew the results of machine-learning models (or prevent them from working at all). Filter the dataset by eliminating negative fare amounts and placing reasonable limits on fares and distance. Then run a correlation again."
      ]
    },
    {
      "cell_type": "code",
      "execution_count": null,
      "metadata": {
        "id": "Z-VrLak3Sl7C",
        "outputId": "c18c3ffd-be0d-4362-de99-ac52057cfef0"
      },
      "outputs": [
        {
          "data": {
            "text/plain": [
              "fare_amount    1.000000\n",
              "distance       0.851913\n",
              "day_of_week   -0.003570\n",
              "pickup_time   -0.023085\n",
              "Name: fare_amount, dtype: float64"
            ]
          },
          "execution_count": 12,
          "metadata": {},
          "output_type": "execute_result"
        }
      ],
      "source": [
        "df = df[(df['distance'] > 1.0) & (df['distance'] < 10.0)]\n",
        "df = df[(df['fare_amount'] > 0.0) & (df['fare_amount'] < 50.0)]\n",
        "\n",
        "corr_matrix = df.corr()\n",
        "corr_matrix['fare_amount'].sort_values(ascending=False)"
      ]
    },
    {
      "cell_type": "markdown",
      "metadata": {
        "id": "QBXRmtETSl7C"
      },
      "source": [
        "That looks better! The correlation between the day of the week, the hour of the day, and fare amount is still weak, but let's leave those columns in there since it makes sense that it might take longer to get from point A to point B during rush hour, or that traffic at 5:00 p.m. Friday might be different than traffic at 5:00 p.m. on Saturday."
      ]
    },
    {
      "cell_type": "markdown",
      "metadata": {
        "id": "Lnvp50lkSl7D"
      },
      "source": [
        "# Train a regression model\n",
        "\n",
        "Now it's time build a regression model and train it with the data prepared in the previous exercise. We'll try three different regression algorithms to determine which one produces the most accurate results, and use cross-validation to meaasure accuracy. Then we'll train the best model. Start with a linear-regression model."
      ]
    },
    {
      "cell_type": "code",
      "execution_count": null,
      "metadata": {
        "id": "oaHHAYLGSl7D",
        "outputId": "c3d4727b-43a5-45c9-bf86-f759d5058f13"
      },
      "outputs": [
        {
          "data": {
            "text/plain": [
              "0.7258845061910318"
            ]
          },
          "execution_count": 13,
          "metadata": {},
          "output_type": "execute_result"
        }
      ],
      "source": [
        "from sklearn.linear_model import LinearRegression\n",
        "from sklearn.model_selection import cross_val_score\n",
        "\n",
        "x = df.drop(['fare_amount'], axis=1)\n",
        "y = df['fare_amount']\n",
        "\n",
        "model = LinearRegression()\n",
        "cross_val_score(model, x, y, cv=5).mean()"
      ]
    },
    {
      "cell_type": "markdown",
      "metadata": {
        "id": "eaRZ3DdgSl7D"
      },
      "source": [
        "Now try a `RandomForestRegressor` with the same dataset and see how its accuracy compares."
      ]
    },
    {
      "cell_type": "code",
      "execution_count": null,
      "metadata": {
        "id": "r-yDfr29Sl7D",
        "outputId": "b3f5439f-27e4-4a31-9932-670a3edccfcb"
      },
      "outputs": [
        {
          "data": {
            "text/plain": [
              "0.706157807448991"
            ]
          },
          "execution_count": 14,
          "metadata": {},
          "output_type": "execute_result"
        }
      ],
      "source": [
        "from sklearn.ensemble import RandomForestRegressor\n",
        "\n",
        "model = RandomForestRegressor(random_state=0)\n",
        "cross_val_score(model, x, y, cv=5).mean()"
      ]
    },
    {
      "cell_type": "markdown",
      "metadata": {
        "id": "E6RhNhzuSl7D"
      },
      "source": [
        "Assess a third model that uses `GradientBoostingRegressor`."
      ]
    },
    {
      "cell_type": "code",
      "execution_count": null,
      "metadata": {
        "id": "iAqcmUarSl7D",
        "outputId": "cd4233bd-d607-4317-bf6c-8b6bc9a80b3e"
      },
      "outputs": [
        {
          "data": {
            "text/plain": [
              "0.750496262408626"
            ]
          },
          "execution_count": 15,
          "metadata": {},
          "output_type": "execute_result"
        }
      ],
      "source": [
        "from sklearn.ensemble import GradientBoostingRegressor\n",
        "\n",
        "model = GradientBoostingRegressor(random_state=0)\n",
        "cross_val_score(model, x, y, cv=5).mean()"
      ]
    },
    {
      "cell_type": "markdown",
      "metadata": {
        "id": "yQempiU-Sl7D"
      },
      "source": [
        "The `GradientBoostingRegressor` produced the highest cross-validated coefficient of determination. Train it using the entire dataset."
      ]
    },
    {
      "cell_type": "code",
      "execution_count": null,
      "metadata": {
        "id": "1Z-KGWRtSl7E",
        "outputId": "0a5da860-dee7-44e0-dff7-361d1d17d02a"
      },
      "outputs": [
        {
          "data": {
            "text/html": [
              "<style>#sk-container-id-1 {color: black;background-color: white;}#sk-container-id-1 pre{padding: 0;}#sk-container-id-1 div.sk-toggleable {background-color: white;}#sk-container-id-1 label.sk-toggleable__label {cursor: pointer;display: block;width: 100%;margin-bottom: 0;padding: 0.3em;box-sizing: border-box;text-align: center;}#sk-container-id-1 label.sk-toggleable__label-arrow:before {content: \"▸\";float: left;margin-right: 0.25em;color: #696969;}#sk-container-id-1 label.sk-toggleable__label-arrow:hover:before {color: black;}#sk-container-id-1 div.sk-estimator:hover label.sk-toggleable__label-arrow:before {color: black;}#sk-container-id-1 div.sk-toggleable__content {max-height: 0;max-width: 0;overflow: hidden;text-align: left;background-color: #f0f8ff;}#sk-container-id-1 div.sk-toggleable__content pre {margin: 0.2em;color: black;border-radius: 0.25em;background-color: #f0f8ff;}#sk-container-id-1 input.sk-toggleable__control:checked~div.sk-toggleable__content {max-height: 200px;max-width: 100%;overflow: auto;}#sk-container-id-1 input.sk-toggleable__control:checked~label.sk-toggleable__label-arrow:before {content: \"▾\";}#sk-container-id-1 div.sk-estimator input.sk-toggleable__control:checked~label.sk-toggleable__label {background-color: #d4ebff;}#sk-container-id-1 div.sk-label input.sk-toggleable__control:checked~label.sk-toggleable__label {background-color: #d4ebff;}#sk-container-id-1 input.sk-hidden--visually {border: 0;clip: rect(1px 1px 1px 1px);clip: rect(1px, 1px, 1px, 1px);height: 1px;margin: -1px;overflow: hidden;padding: 0;position: absolute;width: 1px;}#sk-container-id-1 div.sk-estimator {font-family: monospace;background-color: #f0f8ff;border: 1px dotted black;border-radius: 0.25em;box-sizing: border-box;margin-bottom: 0.5em;}#sk-container-id-1 div.sk-estimator:hover {background-color: #d4ebff;}#sk-container-id-1 div.sk-parallel-item::after {content: \"\";width: 100%;border-bottom: 1px solid gray;flex-grow: 1;}#sk-container-id-1 div.sk-label:hover label.sk-toggleable__label {background-color: #d4ebff;}#sk-container-id-1 div.sk-serial::before {content: \"\";position: absolute;border-left: 1px solid gray;box-sizing: border-box;top: 0;bottom: 0;left: 50%;z-index: 0;}#sk-container-id-1 div.sk-serial {display: flex;flex-direction: column;align-items: center;background-color: white;padding-right: 0.2em;padding-left: 0.2em;position: relative;}#sk-container-id-1 div.sk-item {position: relative;z-index: 1;}#sk-container-id-1 div.sk-parallel {display: flex;align-items: stretch;justify-content: center;background-color: white;position: relative;}#sk-container-id-1 div.sk-item::before, #sk-container-id-1 div.sk-parallel-item::before {content: \"\";position: absolute;border-left: 1px solid gray;box-sizing: border-box;top: 0;bottom: 0;left: 50%;z-index: -1;}#sk-container-id-1 div.sk-parallel-item {display: flex;flex-direction: column;z-index: 1;position: relative;background-color: white;}#sk-container-id-1 div.sk-parallel-item:first-child::after {align-self: flex-end;width: 50%;}#sk-container-id-1 div.sk-parallel-item:last-child::after {align-self: flex-start;width: 50%;}#sk-container-id-1 div.sk-parallel-item:only-child::after {width: 0;}#sk-container-id-1 div.sk-dashed-wrapped {border: 1px dashed gray;margin: 0 0.4em 0.5em 0.4em;box-sizing: border-box;padding-bottom: 0.4em;background-color: white;}#sk-container-id-1 div.sk-label label {font-family: monospace;font-weight: bold;display: inline-block;line-height: 1.2em;}#sk-container-id-1 div.sk-label-container {text-align: center;}#sk-container-id-1 div.sk-container {/* jupyter's `normalize.less` sets `[hidden] { display: none; }` but bootstrap.min.css set `[hidden] { display: none !important; }` so we also need the `!important` here to be able to override the default hidden behavior on the sphinx rendered scikit-learn.org. See: https://github.com/scikit-learn/scikit-learn/issues/21755 */display: inline-block !important;position: relative;}#sk-container-id-1 div.sk-text-repr-fallback {display: none;}</style><div id=\"sk-container-id-1\" class=\"sk-top-container\"><div class=\"sk-text-repr-fallback\"><pre>GradientBoostingRegressor(random_state=0)</pre><b>In a Jupyter environment, please rerun this cell to show the HTML representation or trust the notebook. <br />On GitHub, the HTML representation is unable to render, please try loading this page with nbviewer.org.</b></div><div class=\"sk-container\" hidden><div class=\"sk-item\"><div class=\"sk-estimator sk-toggleable\"><input class=\"sk-toggleable__control sk-hidden--visually\" id=\"sk-estimator-id-1\" type=\"checkbox\" checked><label for=\"sk-estimator-id-1\" class=\"sk-toggleable__label sk-toggleable__label-arrow\">GradientBoostingRegressor</label><div class=\"sk-toggleable__content\"><pre>GradientBoostingRegressor(random_state=0)</pre></div></div></div></div></div>"
            ],
            "text/plain": [
              "GradientBoostingRegressor(random_state=0)"
            ]
          },
          "execution_count": 16,
          "metadata": {},
          "output_type": "execute_result"
        }
      ],
      "source": [
        "model.fit(x, y)"
      ]
    },
    {
      "cell_type": "markdown",
      "metadata": {
        "id": "j7fuBmwOSl7E"
      },
      "source": [
        "The model is now trained and ready to make predictions."
      ]
    },
    {
      "cell_type": "markdown",
      "metadata": {
        "id": "gnGpibt0Sl7E"
      },
      "source": [
        "## Use the model to predict fare amounts\n",
        "\n",
        "Finish up by using the trained model to make a pair of predictions. First, estimate what it will cost to hire a taxi for a 2-mile trip at 5:00 p.m. on Friday afternoon."
      ]
    },
    {
      "cell_type": "code",
      "execution_count": null,
      "metadata": {
        "id": "YAFkIo8JSl7E",
        "outputId": "257bc060-1819-4fbe-fe66-4dd7e2d7c8b4"
      },
      "outputs": [
        {
          "data": {
            "text/plain": [
              "array([11.49105571])"
            ]
          },
          "execution_count": 17,
          "metadata": {},
          "output_type": "execute_result"
        }
      ],
      "source": [
        "model.predict(pd.DataFrame({ 'day_of_week': [4], 'pickup_time': [17], 'distance': [2.0] }))"
      ]
    },
    {
      "cell_type": "markdown",
      "metadata": {
        "id": "7U-fRH7ZSl7E"
      },
      "source": [
        "Now predict the fare amount for a 2-mile trip taken at 5:00 p.m. one day later (on Saturday)."
      ]
    },
    {
      "cell_type": "code",
      "execution_count": null,
      "metadata": {
        "id": "pZ3JYXjzSl7E",
        "outputId": "11f8a268-90ea-46a7-d970-dcd53a579dbd"
      },
      "outputs": [
        {
          "data": {
            "text/plain": [
              "array([10.95309995])"
            ]
          },
          "execution_count": 18,
          "metadata": {},
          "output_type": "execute_result"
        }
      ],
      "source": [
        "model.predict(pd.DataFrame({ 'day_of_week': [5], 'pickup_time': [17], 'distance': [2.0] }))"
      ]
    },
    {
      "cell_type": "markdown",
      "metadata": {
        "id": "fHURlMyASl7F"
      },
      "source": [
        "Does the model predict a higher or lower fare amount for the same trip on Saturday afternoon? Does this make sense given that the data comes from a New York City cab company?"
      ]
    }
  ],
  "metadata": {
    "kernelspec": {
      "display_name": "Python 3",
      "language": "python",
      "name": "python3"
    },
    "language_info": {
      "codemirror_mode": {
        "name": "ipython",
        "version": 3
      },
      "file_extension": ".py",
      "mimetype": "text/x-python",
      "name": "python",
      "nbconvert_exporter": "python",
      "pygments_lexer": "ipython3",
      "version": "3.8.5"
    },
    "colab": {
      "provenance": []
    }
  },
  "nbformat": 4,
  "nbformat_minor": 0
}